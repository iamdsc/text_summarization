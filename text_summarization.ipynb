{
  "nbformat": 4,
  "nbformat_minor": 0,
  "metadata": {
    "colab": {
      "name": "text_summarization.ipynb",
      "version": "0.3.2",
      "provenance": [],
      "collapsed_sections": [],
      "include_colab_link": true
    },
    "kernelspec": {
      "name": "python3",
      "display_name": "Python 3"
    }
  },
  "cells": [
    {
      "cell_type": "markdown",
      "metadata": {
        "id": "view-in-github",
        "colab_type": "text"
      },
      "source": [
        "<a href=\"https://colab.research.google.com/github/iamdsc/text_summarization/blob/master/text_summarization.ipynb\" target=\"_parent\"><img src=\"https://colab.research.google.com/assets/colab-badge.svg\" alt=\"Open In Colab\"/></a>"
      ]
    },
    {
      "metadata": {
        "id": "Vgkxga7oaZTB",
        "colab_type": "text"
      },
      "cell_type": "markdown",
      "source": [
        "## Extractive Text Summarization "
      ]
    },
    {
      "metadata": {
        "id": "skoGHmrCaRh5",
        "colab_type": "code",
        "colab": {
          "base_uri": "https://localhost:8080/",
          "height": 54
        },
        "outputId": "8647dba0-731d-47b8-82f1-304e5ae8ae9c"
      },
      "cell_type": "code",
      "source": [
        "# importing required libraries\n",
        "import numpy as np\n",
        "import pandas as pd\n",
        "import nltk\n",
        "from nltk.tokenize import sent_tokenize\n",
        "nltk.download('punkt')\n",
        "import re\n",
        "from gensim.models import Word2Vec"
      ],
      "execution_count": 1,
      "outputs": [
        {
          "output_type": "stream",
          "text": [
            "[nltk_data] Downloading package punkt to /root/nltk_data...\n",
            "[nltk_data]   Unzipping tokenizers/punkt.zip.\n"
          ],
          "name": "stdout"
        }
      ]
    },
    {
      "metadata": {
        "id": "Z8ymwYVTb0ff",
        "colab_type": "code",
        "colab": {
          "base_uri": "https://localhost:8080/",
          "height": 129
        },
        "outputId": "9b8d8d13-da4a-4c41-9095-cd2c81a382ad"
      },
      "cell_type": "code",
      "source": [
        "# getting data from google drive\n",
        "from google.colab import drive\n",
        "drive.mount('/content/drive')"
      ],
      "execution_count": 2,
      "outputs": [
        {
          "output_type": "stream",
          "text": [
            "Go to this URL in a browser: https://accounts.google.com/o/oauth2/auth?client_id=947318989803-6bn6qk8qdgf4n4g3pfee6491hc0brc4i.apps.googleusercontent.com&redirect_uri=urn%3Aietf%3Awg%3Aoauth%3A2.0%3Aoob&scope=email%20https%3A%2F%2Fwww.googleapis.com%2Fauth%2Fdocs.test%20https%3A%2F%2Fwww.googleapis.com%2Fauth%2Fdrive%20https%3A%2F%2Fwww.googleapis.com%2Fauth%2Fdrive.photos.readonly%20https%3A%2F%2Fwww.googleapis.com%2Fauth%2Fpeopleapi.readonly&response_type=code\n",
            "\n",
            "Enter your authorization code:\n",
            "··········\n",
            "Mounted at /content/drive\n"
          ],
          "name": "stdout"
        }
      ]
    },
    {
      "metadata": {
        "id": "Z_rvFSuJcMIZ",
        "colab_type": "code",
        "colab": {}
      },
      "cell_type": "code",
      "source": [
        "%cd ..\n",
        "%cp content/drive/My\\ Drive/dataset.zip content/"
      ],
      "execution_count": 0,
      "outputs": []
    },
    {
      "metadata": {
        "id": "lI33TEZPcoJU",
        "colab_type": "code",
        "colab": {
          "base_uri": "https://localhost:8080/",
          "height": 35
        },
        "outputId": "47ee6261-85dd-4a63-d056-549499ea4ff4"
      },
      "cell_type": "code",
      "source": [
        "%cd content"
      ],
      "execution_count": 16,
      "outputs": [
        {
          "output_type": "stream",
          "text": [
            "/content\n"
          ],
          "name": "stdout"
        }
      ]
    },
    {
      "metadata": {
        "id": "PYHmPPaofSCA",
        "colab_type": "code",
        "colab": {}
      },
      "cell_type": "code",
      "source": [
        "!unzip dataset.zip"
      ],
      "execution_count": 0,
      "outputs": []
    },
    {
      "metadata": {
        "id": "_KzvBTtCilCO",
        "colab_type": "code",
        "colab": {
          "base_uri": "https://localhost:8080/",
          "height": 182
        },
        "outputId": "7b455d90-3e1b-480c-bfcf-3df573df9e53"
      },
      "cell_type": "code",
      "source": [
        "# Reading in the training data\n",
        "import os\n",
        "\n",
        "X_text = []\n",
        "counter = 0\n",
        "file_list = os.listdir('dataset/stories_text_summarization_dataset_train/')\n",
        "for filename in file_list:\n",
        "  counter+=1\n",
        "  with open(os.path.join('dataset/stories_text_summarization_dataset_train/',filename), 'r', encoding='utf-8') as f:\n",
        "    content=f.read()\n",
        "    X_text.append(content)\n",
        "    f.close()\n",
        "  if counter % 10000 == 0:\n",
        "    print(counter)"
      ],
      "execution_count": 23,
      "outputs": [
        {
          "output_type": "stream",
          "text": [
            "10000\n",
            "20000\n",
            "30000\n",
            "40000\n",
            "50000\n",
            "60000\n",
            "70000\n",
            "80000\n",
            "90000\n"
          ],
          "name": "stdout"
        }
      ]
    },
    {
      "metadata": {
        "id": "rtvYy5gcmWRQ",
        "colab_type": "text"
      },
      "cell_type": "markdown",
      "source": [
        "### Remove punctuation,numbers and special characters and make lowercase"
      ]
    },
    {
      "metadata": {
        "id": "PkhDgQkVmRG4",
        "colab_type": "code",
        "colab": {}
      },
      "cell_type": "code",
      "source": [
        "def remove_punc(sent):\n",
        "  \"\"\" To remove punctuations and special characters \"\"\"\n",
        "  cleaned=re.sub(r'[?|!|\\'|\"|#]', r'', sent)\n",
        "  cleaned=re.sub(r'[.|,|)|(|\\|/]', r' ', sent)\n",
        "  cleaned=cleaned.strip()\n",
        "  cleaned=cleaned.replace('\\n',' ')\n",
        "  return cleaned\n",
        " \n",
        "def keep_alpha(sent):\n",
        "  \"\"\" To remove non-alphabetic characters \"\"\"\n",
        "  alpha_sent=''\n",
        "  for word in sent.split():\n",
        "    alpha_word=re.sub('[^a-z A-Z]+', ' ', word)\n",
        "    alpha_sent+=alpha_word\n",
        "    alpha_sent+=' '\n",
        "  alpha_sent=alpha_sent.strip()\n",
        "  return alpha_sent\n",
        "\n",
        "X_text_clean = [remove_punc(sent) for sent in X_text]\n",
        "X_text_clean = [keep_alpha(sent) for sent in X_text_clean]\n",
        "X_text_clean = [sent.lower() for sent in X_text_clean]"
      ],
      "execution_count": 0,
      "outputs": []
    },
    {
      "metadata": {
        "id": "WOAZGlRelwov",
        "colab_type": "text"
      },
      "cell_type": "markdown",
      "source": [
        "### Removing stop words"
      ]
    },
    {
      "metadata": {
        "id": "9RSJfWOGj66V",
        "colab_type": "code",
        "colab": {
          "base_uri": "https://localhost:8080/",
          "height": 72
        },
        "outputId": "3e12e41a-cd29-4bde-ee67-6ba75172bb99"
      },
      "cell_type": "code",
      "source": [
        "nltk.download('stopwords')"
      ],
      "execution_count": 24,
      "outputs": [
        {
          "output_type": "stream",
          "text": [
            "[nltk_data] Downloading package stopwords to /root/nltk_data...\n",
            "[nltk_data]   Unzipping corpora/stopwords.zip.\n"
          ],
          "name": "stdout"
        },
        {
          "output_type": "execute_result",
          "data": {
            "text/plain": [
              "True"
            ]
          },
          "metadata": {
            "tags": []
          },
          "execution_count": 24
        }
      ]
    },
    {
      "metadata": {
        "id": "SBSpnQyel3s6",
        "colab_type": "code",
        "colab": {}
      },
      "cell_type": "code",
      "source": [
        "from nltk.corpus import stopwords\n",
        "stop_words = stopwords.words('english')"
      ],
      "execution_count": 0,
      "outputs": []
    },
    {
      "metadata": {
        "id": "PrWcQkYyl_tV",
        "colab_type": "code",
        "colab": {}
      },
      "cell_type": "code",
      "source": [
        "# function to remove stopwords\n",
        "def remove_stopwords(sent):\n",
        "  sent_new = ' '.join([i for i in sent if i not in stop_words])\n",
        "  return sent_new"
      ],
      "execution_count": 0,
      "outputs": []
    },
    {
      "metadata": {
        "id": "NHRhgMKInR_c",
        "colab_type": "code",
        "colab": {}
      },
      "cell_type": "code",
      "source": [
        "X_text_clean = [remove_stopwords(r.split()) for r in X_text_clean]"
      ],
      "execution_count": 0,
      "outputs": []
    },
    {
      "metadata": {
        "id": "LPfErsW1nfAO",
        "colab_type": "code",
        "colab": {
          "base_uri": "https://localhost:8080/",
          "height": 74
        },
        "outputId": "8315ba5c-2165-4a82-f1c0-622ee7f93035"
      },
      "cell_type": "code",
      "source": [
        "print('No. of sentences',len(X_text_clean))\n",
        "print('First 5 sentences',X_text_clean[:5])"
      ],
      "execution_count": 34,
      "outputs": [
        {
          "output_type": "stream",
          "text": [
            "No. of sentences 92569\n",
            "First 5 sentences ['cnn mac user years since made switch never thought day would come say excited next version windows fall microsoft launch windows radical redesign windows grown accustomed since windows made debut years ago windows reimagined ground built run traditional desktop touchscreen tablets first glance notice classic start menu gone replaced gorgeous tile layout full favorite apps files microsoft calls metro interface imagine blown version windows phone interface used several smartphones little tiles provide live updates news sports weather twitter mentions facebook updates without even open app one quick glance get information need old windows makes excited try final version windows fall un microsoft move company created radical redesign desktop well decade incredibly functional beta version windows available free consumer preview using last weeks right handful prototype tablets run windows using laptop instead however since metro interface designed touch mouse cursor bit learning curve windows scrolling start screen get confusing keyboard learn shortcuts experience incredible unlike operating system ever used perfect hybrid old new apple attempts slowly merge mobile operating system desktop new iphone like features microsoft made bold move jumped ahead future computing takes place touch friendly smartphones tablets enough make apple fan like drool worried able catch new look windows classic windows still windows microsoft hid behind metro interface means get old taskbar start menu desktop full icons favorite apps great way ease transition plus apps excel powerpoint work better classic desktop course far early tell microsoft gamble windows pay consumers slow adopt windows phones windows essentially blown version microsoft get pumped new product must something right copyright business insider highlight fall microsoft launch windows radical redesign windows old highlight classic start menu gone replaced tile layout full favorite apps files highlight un microsoft move firm created radical desktop redesign decade', 'cnn phone tablet owners used spend time surfing web using apps according data flurry analytics year half ago mobile users tended spend considerably time average minutes per day using web browser phone tablet comparison spent minutes per day apps mobile users spend average minutes per day using apps minutes browsing mobile web according flurry report released earlier month company blog necessarily mean mobile users spending nearly three hours per day looking phones flurry web app statistics came different sources overall appear spending much time looking phones used driving growth time spent mobile apps according flurry consumers using apps frequently number daily sessions growing although duration sessions flurry predicts smartphone users continue spend even time proportionally apps vs mobile web fact june december observed average daily time spent mobile web decreased slightly users seem substituting websites applications may convenient access throughout day report said mobile web holding attention less according flurry might facebook app popular drop appears driven largely decrease time spent facebook mobile website june average facebook user spent minutes average per day mobile website today number minutes mobile users increasingly accessing facebook online services mobile applications facebook factored statistics flurry notes average time spent elsewhere mobile web actually grew time frame worth noting flurry disinterested party company sells mobile application analytics advertising platform incorporated mobile apps advertisers interested amount time people might exposed ads mobile web mobile browsers nature mobile apps changing fast sites built using latest web markup language html gives websites app like features instance html supports geolocation makes web forms easier fill phone supports coding scripts enable custom features also loads multimedia elements faster web pages consequently mobile apps actually delivered mobile web browser making web apps want see action visit youtube twitter via web browser phone tablet see lot conspicuously app like functionality november adobe announced finally abandoning development flash mobile browsers refocusing html delivering interactive features video death rattle long struggle apple resisted letting flash run ios mobile operating system turnabout many designers began converting flash based websites especially ad supported ones html rise html mobile web apps could also eat profits today leading app marketplaces html report noted mass migration html eliminate need rely companies like apple google take revenues generated applications powerful financial incentive app developers digital publishers online services start deploying web apps another bonus native apps built run specific platform many apps come separate versions iphone android mobile platforms building updating supporting separate pieces software fairly expensive complex html inherently cross platform means build run mobile device sufficiently advanced browser course users must download install native mobile apps order run device considerable hurdle one four mobile apps really engages mobile users apps downloaded opened never used html web apps users download install launch update anything runs apps come known midst radical change whether rise html lead mobile users start spending time browsers native apps remains seen many mobile users many apps distinction may start become irrelevant opinions expressed post solely amy gahran highlight phone tablet users spend average minutes per day using apps highlight people using apps frequently even though spending time highlight drop web traffic appears largely driven facebook app', 'cnn fifa president sepp blatter believes spain la liga best football league world claims england top division learn exclusive interview cnn world sport blatter pointed eight spain based players fifa world xi spain world cup success justification looking world xi must strongest league world said see starting xi spanish national team world cup play football spain spanish league also highest number local players epl players snubbed star team blatter told world sport pedro pinto lack england based players fifa world xi undermined quality country premier league premier league best marketed league world said good league good players consider one player made best xi world maybe think whether something adapted fifa world xi featured six players barcelona two real madrid three italian serie champions inter milan among number ballon winner lionel messi year old midfielder beat barcelona teammates xavi andres iniesta named world best player second year row leo messi identify wonderful football player good boy really humble game playing actor blatter said say blatter decisions blatter said messi needed win world cup could compared fellow argentine diego maradona captain champion side compare messi maradona excellent talented players could talented difference personal educational characteristics blatter said one still football modest trying get extravaganza highlight fifa president sepp blatter believes spanish la liga best world highlight eight players fifa world xi play barcelona real madrid highlight lionel messi awarded ballon ahead barcelona teammates xavi iniesta highlight blatter hails messi wonderful footballer humble good boy', 'cnn florida teenager made famous extensive bout hiccups faces first degree murder charges meeting man online allegedly luring vacant home robbed killed police said jennifer mee arrested charged sunday two men laron raiford lamont newton hours shannon griffin found dead shot several times victim friended mee social networking site last week two exchanged messages subsequent days according st petersburg florida police authorities believe mee griffin wal mart employee recently moved florida gulf coast knew prior online encounter telling family members around p heading meet woman griffin rode scooter vacant home first face face encounter mee police said mee led griffin around back raiford newton armed waiting according police griffin shot caliber revolver struggling three murder suspects described police robbery gone awry three suspects admitted involvement charged first degree felony murder st petersburg police sgt skinner said statement mee face murder charge two men even though actually shoot griffin police said well aware going st petersburg florida police chief chuck harmon said obviously set person robbery mee non stop hiccups gained national attention earned nickname hiccup girl appeared multiple times nbc today show desperate search hiccup cure included trying sugar peanut butter breathing bag people scare said photo slideshow posted st petersburg times website february hiccups faded mee continued draw attention june local media reported ran away home january st petersburg police issued missing person report mee mother told cnn affiliate wfts daughter stormed getting fight boyfriend mee found friend called police affiliate said mee living raiford newton police said police arrived scene saturday shooting shortly p finding gun suspects clothing harmon said three suspects arrested charged sunday cooperative talking police interview wflz radio teenager mother rachel robidoux described daughter gentle somewhat naive person never gotten trouble life taken turn worse robidoux said ever since bout hiccups case hiccups curse hiccups said called mee arrest nightmare also wflz griffin ex girlfriend rachel hagabone said victim good man ever wanted make somebody happy said nicest guy ever st petersburg police described griffin criminal record somewhat social introvert lived cousin often computer besides online encounter appear know suspects police said far end spectrum far something could happen social networking websites said harmon message careful conversation online never know cnn catherine e shoichet contributed report highlight new radio interview jennifer mee mother calls daughter hiccups curse highlight new ex girlfriend describes murder victim nicest guy ever highlight police say mee befriended man online lured vacant home', 'cnn huawei given quest conquer market telecom network equipment us chinese company sales efforts repeatedly blocked security fears interested us market eric xu executive vice president said company annual analyst summit tuesday world second largest supplier network gear revenue shifted focus expansion away us past year huawei decision ends aggressive push business world largest economy us security officials politicians repeatedly identified huawei threat us national security allegation chinese company consistently denied although huawei done business world top carriers failed get contracts leading operators us last month sprint nextel third largest us mobile network operator japanese suitor softbank gave assurances house intelligence committee would use huawei equipment october us congressional report officially branded huawei zte smaller chinese peer threat national security time representative mike rogers chairman house intelligence committee called us government private sector companies shun huawei zte despite success markets including uk huawei struggled us years concerns among politicians security officials military background founder ren zhengfei former people liberation army officer huawei retracted bid com us technology company emerged proposed deal would gain regulatory approval washington two years later huawei bid multibillion dollar contract supply network infrastructure sprint nextel one top us operators lost us government intervened also failed win bids us telecom assets forced unwind deal buy patents us company response setbacks huawei launched major us lobbying campaign hired number senior executives ailing rivals nortel motorola effort build big research development presence ken hu senior huawei executive also wrote passionate open letter calling us government launch formal investigation believed would clear company october congressional report made even difficult company business us huawei executives say result halted expansion huawei still employs people us r headcount dropped sales team shrunk executives company consumer enterprise business groups said longer consider us strategic market huawei tuesday also revised downwards long term outlook enterprise business youngest fastest growing division william xu unit chief executive said goal generating bn revenues business target set last year optimistic company aiming us bn mr xu still expects unit revenues grow per cent year per cent growth highlight china huawei ended attempts gain access u telecoms gear market highlight u officials argued huawei national security threat huawei denied highlight huawei world second largest supplier network gear highlight chinese firm failed secure contracts leading u telecoms operators']\n"
          ],
          "name": "stdout"
        }
      ]
    },
    {
      "metadata": {
        "id": "R-2wRq-foe-V",
        "colab_type": "code",
        "colab": {
          "base_uri": "https://localhost:8080/",
          "height": 55
        },
        "outputId": "8886adde-17c8-4d58-81be-917991086981"
      },
      "cell_type": "code",
      "source": [
        "## Splitting sentences into words for building word embeddings\n",
        "X_sent_words = []\n",
        "for sent in X_text_clean:\n",
        "  sent_word_list = [word for word in sent.split()]\n",
        "  X_sent_words.append(sent_word_list)\n",
        "print(X_sent_words[:5])"
      ],
      "execution_count": 36,
      "outputs": [
        {
          "output_type": "stream",
          "text": [
            "[['cnn', 'mac', 'user', 'years', 'since', 'made', 'switch', 'never', 'thought', 'day', 'would', 'come', 'say', 'excited', 'next', 'version', 'windows', 'fall', 'microsoft', 'launch', 'windows', 'radical', 'redesign', 'windows', 'grown', 'accustomed', 'since', 'windows', 'made', 'debut', 'years', 'ago', 'windows', 'reimagined', 'ground', 'built', 'run', 'traditional', 'desktop', 'touchscreen', 'tablets', 'first', 'glance', 'notice', 'classic', 'start', 'menu', 'gone', 'replaced', 'gorgeous', 'tile', 'layout', 'full', 'favorite', 'apps', 'files', 'microsoft', 'calls', 'metro', 'interface', 'imagine', 'blown', 'version', 'windows', 'phone', 'interface', 'used', 'several', 'smartphones', 'little', 'tiles', 'provide', 'live', 'updates', 'news', 'sports', 'weather', 'twitter', 'mentions', 'facebook', 'updates', 'without', 'even', 'open', 'app', 'one', 'quick', 'glance', 'get', 'information', 'need', 'old', 'windows', 'makes', 'excited', 'try', 'final', 'version', 'windows', 'fall', 'un', 'microsoft', 'move', 'company', 'created', 'radical', 'redesign', 'desktop', 'well', 'decade', 'incredibly', 'functional', 'beta', 'version', 'windows', 'available', 'free', 'consumer', 'preview', 'using', 'last', 'weeks', 'right', 'handful', 'prototype', 'tablets', 'run', 'windows', 'using', 'laptop', 'instead', 'however', 'since', 'metro', 'interface', 'designed', 'touch', 'mouse', 'cursor', 'bit', 'learning', 'curve', 'windows', 'scrolling', 'start', 'screen', 'get', 'confusing', 'keyboard', 'learn', 'shortcuts', 'experience', 'incredible', 'unlike', 'operating', 'system', 'ever', 'used', 'perfect', 'hybrid', 'old', 'new', 'apple', 'attempts', 'slowly', 'merge', 'mobile', 'operating', 'system', 'desktop', 'new', 'iphone', 'like', 'features', 'microsoft', 'made', 'bold', 'move', 'jumped', 'ahead', 'future', 'computing', 'takes', 'place', 'touch', 'friendly', 'smartphones', 'tablets', 'enough', 'make', 'apple', 'fan', 'like', 'drool', 'worried', 'able', 'catch', 'new', 'look', 'windows', 'classic', 'windows', 'still', 'windows', 'microsoft', 'hid', 'behind', 'metro', 'interface', 'means', 'get', 'old', 'taskbar', 'start', 'menu', 'desktop', 'full', 'icons', 'favorite', 'apps', 'great', 'way', 'ease', 'transition', 'plus', 'apps', 'excel', 'powerpoint', 'work', 'better', 'classic', 'desktop', 'course', 'far', 'early', 'tell', 'microsoft', 'gamble', 'windows', 'pay', 'consumers', 'slow', 'adopt', 'windows', 'phones', 'windows', 'essentially', 'blown', 'version', 'microsoft', 'get', 'pumped', 'new', 'product', 'must', 'something', 'right', 'copyright', 'business', 'insider', 'highlight', 'fall', 'microsoft', 'launch', 'windows', 'radical', 'redesign', 'windows', 'old', 'highlight', 'classic', 'start', 'menu', 'gone', 'replaced', 'tile', 'layout', 'full', 'favorite', 'apps', 'files', 'highlight', 'un', 'microsoft', 'move', 'firm', 'created', 'radical', 'desktop', 'redesign', 'decade'], ['cnn', 'phone', 'tablet', 'owners', 'used', 'spend', 'time', 'surfing', 'web', 'using', 'apps', 'according', 'data', 'flurry', 'analytics', 'year', 'half', 'ago', 'mobile', 'users', 'tended', 'spend', 'considerably', 'time', 'average', 'minutes', 'per', 'day', 'using', 'web', 'browser', 'phone', 'tablet', 'comparison', 'spent', 'minutes', 'per', 'day', 'apps', 'mobile', 'users', 'spend', 'average', 'minutes', 'per', 'day', 'using', 'apps', 'minutes', 'browsing', 'mobile', 'web', 'according', 'flurry', 'report', 'released', 'earlier', 'month', 'company', 'blog', 'necessarily', 'mean', 'mobile', 'users', 'spending', 'nearly', 'three', 'hours', 'per', 'day', 'looking', 'phones', 'flurry', 'web', 'app', 'statistics', 'came', 'different', 'sources', 'overall', 'appear', 'spending', 'much', 'time', 'looking', 'phones', 'used', 'driving', 'growth', 'time', 'spent', 'mobile', 'apps', 'according', 'flurry', 'consumers', 'using', 'apps', 'frequently', 'number', 'daily', 'sessions', 'growing', 'although', 'duration', 'sessions', 'flurry', 'predicts', 'smartphone', 'users', 'continue', 'spend', 'even', 'time', 'proportionally', 'apps', 'vs', 'mobile', 'web', 'fact', 'june', 'december', 'observed', 'average', 'daily', 'time', 'spent', 'mobile', 'web', 'decreased', 'slightly', 'users', 'seem', 'substituting', 'websites', 'applications', 'may', 'convenient', 'access', 'throughout', 'day', 'report', 'said', 'mobile', 'web', 'holding', 'attention', 'less', 'according', 'flurry', 'might', 'facebook', 'app', 'popular', 'drop', 'appears', 'driven', 'largely', 'decrease', 'time', 'spent', 'facebook', 'mobile', 'website', 'june', 'average', 'facebook', 'user', 'spent', 'minutes', 'average', 'per', 'day', 'mobile', 'website', 'today', 'number', 'minutes', 'mobile', 'users', 'increasingly', 'accessing', 'facebook', 'online', 'services', 'mobile', 'applications', 'facebook', 'factored', 'statistics', 'flurry', 'notes', 'average', 'time', 'spent', 'elsewhere', 'mobile', 'web', 'actually', 'grew', 'time', 'frame', 'worth', 'noting', 'flurry', 'disinterested', 'party', 'company', 'sells', 'mobile', 'application', 'analytics', 'advertising', 'platform', 'incorporated', 'mobile', 'apps', 'advertisers', 'interested', 'amount', 'time', 'people', 'might', 'exposed', 'ads', 'mobile', 'web', 'mobile', 'browsers', 'nature', 'mobile', 'apps', 'changing', 'fast', 'sites', 'built', 'using', 'latest', 'web', 'markup', 'language', 'html', 'gives', 'websites', 'app', 'like', 'features', 'instance', 'html', 'supports', 'geolocation', 'makes', 'web', 'forms', 'easier', 'fill', 'phone', 'supports', 'coding', 'scripts', 'enable', 'custom', 'features', 'also', 'loads', 'multimedia', 'elements', 'faster', 'web', 'pages', 'consequently', 'mobile', 'apps', 'actually', 'delivered', 'mobile', 'web', 'browser', 'making', 'web', 'apps', 'want', 'see', 'action', 'visit', 'youtube', 'twitter', 'via', 'web', 'browser', 'phone', 'tablet', 'see', 'lot', 'conspicuously', 'app', 'like', 'functionality', 'november', 'adobe', 'announced', 'finally', 'abandoning', 'development', 'flash', 'mobile', 'browsers', 'refocusing', 'html', 'delivering', 'interactive', 'features', 'video', 'death', 'rattle', 'long', 'struggle', 'apple', 'resisted', 'letting', 'flash', 'run', 'ios', 'mobile', 'operating', 'system', 'turnabout', 'many', 'designers', 'began', 'converting', 'flash', 'based', 'websites', 'especially', 'ad', 'supported', 'ones', 'html', 'rise', 'html', 'mobile', 'web', 'apps', 'could', 'also', 'eat', 'profits', 'today', 'leading', 'app', 'marketplaces', 'html', 'report', 'noted', 'mass', 'migration', 'html', 'eliminate', 'need', 'rely', 'companies', 'like', 'apple', 'google', 'take', 'revenues', 'generated', 'applications', 'powerful', 'financial', 'incentive', 'app', 'developers', 'digital', 'publishers', 'online', 'services', 'start', 'deploying', 'web', 'apps', 'another', 'bonus', 'native', 'apps', 'built', 'run', 'specific', 'platform', 'many', 'apps', 'come', 'separate', 'versions', 'iphone', 'android', 'mobile', 'platforms', 'building', 'updating', 'supporting', 'separate', 'pieces', 'software', 'fairly', 'expensive', 'complex', 'html', 'inherently', 'cross', 'platform', 'means', 'build', 'run', 'mobile', 'device', 'sufficiently', 'advanced', 'browser', 'course', 'users', 'must', 'download', 'install', 'native', 'mobile', 'apps', 'order', 'run', 'device', 'considerable', 'hurdle', 'one', 'four', 'mobile', 'apps', 'really', 'engages', 'mobile', 'users', 'apps', 'downloaded', 'opened', 'never', 'used', 'html', 'web', 'apps', 'users', 'download', 'install', 'launch', 'update', 'anything', 'runs', 'apps', 'come', 'known', 'midst', 'radical', 'change', 'whether', 'rise', 'html', 'lead', 'mobile', 'users', 'start', 'spending', 'time', 'browsers', 'native', 'apps', 'remains', 'seen', 'many', 'mobile', 'users', 'many', 'apps', 'distinction', 'may', 'start', 'become', 'irrelevant', 'opinions', 'expressed', 'post', 'solely', 'amy', 'gahran', 'highlight', 'phone', 'tablet', 'users', 'spend', 'average', 'minutes', 'per', 'day', 'using', 'apps', 'highlight', 'people', 'using', 'apps', 'frequently', 'even', 'though', 'spending', 'time', 'highlight', 'drop', 'web', 'traffic', 'appears', 'largely', 'driven', 'facebook', 'app'], ['cnn', 'fifa', 'president', 'sepp', 'blatter', 'believes', 'spain', 'la', 'liga', 'best', 'football', 'league', 'world', 'claims', 'england', 'top', 'division', 'learn', 'exclusive', 'interview', 'cnn', 'world', 'sport', 'blatter', 'pointed', 'eight', 'spain', 'based', 'players', 'fifa', 'world', 'xi', 'spain', 'world', 'cup', 'success', 'justification', 'looking', 'world', 'xi', 'must', 'strongest', 'league', 'world', 'said', 'see', 'starting', 'xi', 'spanish', 'national', 'team', 'world', 'cup', 'play', 'football', 'spain', 'spanish', 'league', 'also', 'highest', 'number', 'local', 'players', 'epl', 'players', 'snubbed', 'star', 'team', 'blatter', 'told', 'world', 'sport', 'pedro', 'pinto', 'lack', 'england', 'based', 'players', 'fifa', 'world', 'xi', 'undermined', 'quality', 'country', 'premier', 'league', 'premier', 'league', 'best', 'marketed', 'league', 'world', 'said', 'good', 'league', 'good', 'players', 'consider', 'one', 'player', 'made', 'best', 'xi', 'world', 'maybe', 'think', 'whether', 'something', 'adapted', 'fifa', 'world', 'xi', 'featured', 'six', 'players', 'barcelona', 'two', 'real', 'madrid', 'three', 'italian', 'serie', 'champions', 'inter', 'milan', 'among', 'number', 'ballon', 'winner', 'lionel', 'messi', 'year', 'old', 'midfielder', 'beat', 'barcelona', 'teammates', 'xavi', 'andres', 'iniesta', 'named', 'world', 'best', 'player', 'second', 'year', 'row', 'leo', 'messi', 'identify', 'wonderful', 'football', 'player', 'good', 'boy', 'really', 'humble', 'game', 'playing', 'actor', 'blatter', 'said', 'say', 'blatter', 'decisions', 'blatter', 'said', 'messi', 'needed', 'win', 'world', 'cup', 'could', 'compared', 'fellow', 'argentine', 'diego', 'maradona', 'captain', 'champion', 'side', 'compare', 'messi', 'maradona', 'excellent', 'talented', 'players', 'could', 'talented', 'difference', 'personal', 'educational', 'characteristics', 'blatter', 'said', 'one', 'still', 'football', 'modest', 'trying', 'get', 'extravaganza', 'highlight', 'fifa', 'president', 'sepp', 'blatter', 'believes', 'spanish', 'la', 'liga', 'best', 'world', 'highlight', 'eight', 'players', 'fifa', 'world', 'xi', 'play', 'barcelona', 'real', 'madrid', 'highlight', 'lionel', 'messi', 'awarded', 'ballon', 'ahead', 'barcelona', 'teammates', 'xavi', 'iniesta', 'highlight', 'blatter', 'hails', 'messi', 'wonderful', 'footballer', 'humble', 'good', 'boy'], ['cnn', 'florida', 'teenager', 'made', 'famous', 'extensive', 'bout', 'hiccups', 'faces', 'first', 'degree', 'murder', 'charges', 'meeting', 'man', 'online', 'allegedly', 'luring', 'vacant', 'home', 'robbed', 'killed', 'police', 'said', 'jennifer', 'mee', 'arrested', 'charged', 'sunday', 'two', 'men', 'laron', 'raiford', 'lamont', 'newton', 'hours', 'shannon', 'griffin', 'found', 'dead', 'shot', 'several', 'times', 'victim', 'friended', 'mee', 'social', 'networking', 'site', 'last', 'week', 'two', 'exchanged', 'messages', 'subsequent', 'days', 'according', 'st', 'petersburg', 'florida', 'police', 'authorities', 'believe', 'mee', 'griffin', 'wal', 'mart', 'employee', 'recently', 'moved', 'florida', 'gulf', 'coast', 'knew', 'prior', 'online', 'encounter', 'telling', 'family', 'members', 'around', 'p', 'heading', 'meet', 'woman', 'griffin', 'rode', 'scooter', 'vacant', 'home', 'first', 'face', 'face', 'encounter', 'mee', 'police', 'said', 'mee', 'led', 'griffin', 'around', 'back', 'raiford', 'newton', 'armed', 'waiting', 'according', 'police', 'griffin', 'shot', 'caliber', 'revolver', 'struggling', 'three', 'murder', 'suspects', 'described', 'police', 'robbery', 'gone', 'awry', 'three', 'suspects', 'admitted', 'involvement', 'charged', 'first', 'degree', 'felony', 'murder', 'st', 'petersburg', 'police', 'sgt', 'skinner', 'said', 'statement', 'mee', 'face', 'murder', 'charge', 'two', 'men', 'even', 'though', 'actually', 'shoot', 'griffin', 'police', 'said', 'well', 'aware', 'going', 'st', 'petersburg', 'florida', 'police', 'chief', 'chuck', 'harmon', 'said', 'obviously', 'set', 'person', 'robbery', 'mee', 'non', 'stop', 'hiccups', 'gained', 'national', 'attention', 'earned', 'nickname', 'hiccup', 'girl', 'appeared', 'multiple', 'times', 'nbc', 'today', 'show', 'desperate', 'search', 'hiccup', 'cure', 'included', 'trying', 'sugar', 'peanut', 'butter', 'breathing', 'bag', 'people', 'scare', 'said', 'photo', 'slideshow', 'posted', 'st', 'petersburg', 'times', 'website', 'february', 'hiccups', 'faded', 'mee', 'continued', 'draw', 'attention', 'june', 'local', 'media', 'reported', 'ran', 'away', 'home', 'january', 'st', 'petersburg', 'police', 'issued', 'missing', 'person', 'report', 'mee', 'mother', 'told', 'cnn', 'affiliate', 'wfts', 'daughter', 'stormed', 'getting', 'fight', 'boyfriend', 'mee', 'found', 'friend', 'called', 'police', 'affiliate', 'said', 'mee', 'living', 'raiford', 'newton', 'police', 'said', 'police', 'arrived', 'scene', 'saturday', 'shooting', 'shortly', 'p', 'finding', 'gun', 'suspects', 'clothing', 'harmon', 'said', 'three', 'suspects', 'arrested', 'charged', 'sunday', 'cooperative', 'talking', 'police', 'interview', 'wflz', 'radio', 'teenager', 'mother', 'rachel', 'robidoux', 'described', 'daughter', 'gentle', 'somewhat', 'naive', 'person', 'never', 'gotten', 'trouble', 'life', 'taken', 'turn', 'worse', 'robidoux', 'said', 'ever', 'since', 'bout', 'hiccups', 'case', 'hiccups', 'curse', 'hiccups', 'said', 'called', 'mee', 'arrest', 'nightmare', 'also', 'wflz', 'griffin', 'ex', 'girlfriend', 'rachel', 'hagabone', 'said', 'victim', 'good', 'man', 'ever', 'wanted', 'make', 'somebody', 'happy', 'said', 'nicest', 'guy', 'ever', 'st', 'petersburg', 'police', 'described', 'griffin', 'criminal', 'record', 'somewhat', 'social', 'introvert', 'lived', 'cousin', 'often', 'computer', 'besides', 'online', 'encounter', 'appear', 'know', 'suspects', 'police', 'said', 'far', 'end', 'spectrum', 'far', 'something', 'could', 'happen', 'social', 'networking', 'websites', 'said', 'harmon', 'message', 'careful', 'conversation', 'online', 'never', 'know', 'cnn', 'catherine', 'e', 'shoichet', 'contributed', 'report', 'highlight', 'new', 'radio', 'interview', 'jennifer', 'mee', 'mother', 'calls', 'daughter', 'hiccups', 'curse', 'highlight', 'new', 'ex', 'girlfriend', 'describes', 'murder', 'victim', 'nicest', 'guy', 'ever', 'highlight', 'police', 'say', 'mee', 'befriended', 'man', 'online', 'lured', 'vacant', 'home'], ['cnn', 'huawei', 'given', 'quest', 'conquer', 'market', 'telecom', 'network', 'equipment', 'us', 'chinese', 'company', 'sales', 'efforts', 'repeatedly', 'blocked', 'security', 'fears', 'interested', 'us', 'market', 'eric', 'xu', 'executive', 'vice', 'president', 'said', 'company', 'annual', 'analyst', 'summit', 'tuesday', 'world', 'second', 'largest', 'supplier', 'network', 'gear', 'revenue', 'shifted', 'focus', 'expansion', 'away', 'us', 'past', 'year', 'huawei', 'decision', 'ends', 'aggressive', 'push', 'business', 'world', 'largest', 'economy', 'us', 'security', 'officials', 'politicians', 'repeatedly', 'identified', 'huawei', 'threat', 'us', 'national', 'security', 'allegation', 'chinese', 'company', 'consistently', 'denied', 'although', 'huawei', 'done', 'business', 'world', 'top', 'carriers', 'failed', 'get', 'contracts', 'leading', 'operators', 'us', 'last', 'month', 'sprint', 'nextel', 'third', 'largest', 'us', 'mobile', 'network', 'operator', 'japanese', 'suitor', 'softbank', 'gave', 'assurances', 'house', 'intelligence', 'committee', 'would', 'use', 'huawei', 'equipment', 'october', 'us', 'congressional', 'report', 'officially', 'branded', 'huawei', 'zte', 'smaller', 'chinese', 'peer', 'threat', 'national', 'security', 'time', 'representative', 'mike', 'rogers', 'chairman', 'house', 'intelligence', 'committee', 'called', 'us', 'government', 'private', 'sector', 'companies', 'shun', 'huawei', 'zte', 'despite', 'success', 'markets', 'including', 'uk', 'huawei', 'struggled', 'us', 'years', 'concerns', 'among', 'politicians', 'security', 'officials', 'military', 'background', 'founder', 'ren', 'zhengfei', 'former', 'people', 'liberation', 'army', 'officer', 'huawei', 'retracted', 'bid', 'com', 'us', 'technology', 'company', 'emerged', 'proposed', 'deal', 'would', 'gain', 'regulatory', 'approval', 'washington', 'two', 'years', 'later', 'huawei', 'bid', 'multibillion', 'dollar', 'contract', 'supply', 'network', 'infrastructure', 'sprint', 'nextel', 'one', 'top', 'us', 'operators', 'lost', 'us', 'government', 'intervened', 'also', 'failed', 'win', 'bids', 'us', 'telecom', 'assets', 'forced', 'unwind', 'deal', 'buy', 'patents', 'us', 'company', 'response', 'setbacks', 'huawei', 'launched', 'major', 'us', 'lobbying', 'campaign', 'hired', 'number', 'senior', 'executives', 'ailing', 'rivals', 'nortel', 'motorola', 'effort', 'build', 'big', 'research', 'development', 'presence', 'ken', 'hu', 'senior', 'huawei', 'executive', 'also', 'wrote', 'passionate', 'open', 'letter', 'calling', 'us', 'government', 'launch', 'formal', 'investigation', 'believed', 'would', 'clear', 'company', 'october', 'congressional', 'report', 'made', 'even', 'difficult', 'company', 'business', 'us', 'huawei', 'executives', 'say', 'result', 'halted', 'expansion', 'huawei', 'still', 'employs', 'people', 'us', 'r', 'headcount', 'dropped', 'sales', 'team', 'shrunk', 'executives', 'company', 'consumer', 'enterprise', 'business', 'groups', 'said', 'longer', 'consider', 'us', 'strategic', 'market', 'huawei', 'tuesday', 'also', 'revised', 'downwards', 'long', 'term', 'outlook', 'enterprise', 'business', 'youngest', 'fastest', 'growing', 'division', 'william', 'xu', 'unit', 'chief', 'executive', 'said', 'goal', 'generating', 'bn', 'revenues', 'business', 'target', 'set', 'last', 'year', 'optimistic', 'company', 'aiming', 'us', 'bn', 'mr', 'xu', 'still', 'expects', 'unit', 'revenues', 'grow', 'per', 'cent', 'year', 'per', 'cent', 'growth', 'highlight', 'china', 'huawei', 'ended', 'attempts', 'gain', 'access', 'u', 'telecoms', 'gear', 'market', 'highlight', 'u', 'officials', 'argued', 'huawei', 'national', 'security', 'threat', 'huawei', 'denied', 'highlight', 'huawei', 'world', 'second', 'largest', 'supplier', 'network', 'gear', 'highlight', 'chinese', 'firm', 'failed', 'secure', 'contracts', 'leading', 'u', 'telecoms', 'operators']]\n"
          ],
          "name": "stdout"
        }
      ]
    },
    {
      "metadata": {
        "id": "6uj4lOkHsqv1",
        "colab_type": "code",
        "colab": {}
      },
      "cell_type": "code",
      "source": [
        "## training word2vec model to create word embeddings\n",
        "model = Word2Vec(X_sent_words, min_count=1)"
      ],
      "execution_count": 0,
      "outputs": []
    },
    {
      "metadata": {
        "id": "rLfTRFHLtHM9",
        "colab_type": "code",
        "colab": {}
      },
      "cell_type": "code",
      "source": [
        "## saving the model\n",
        "model.wv.save_word2vec_format('word_embeddings.bin')"
      ],
      "execution_count": 0,
      "outputs": []
    },
    {
      "metadata": {
        "id": "gPnzePO9u7kw",
        "colab_type": "code",
        "colab": {
          "base_uri": "https://localhost:8080/",
          "height": 201
        },
        "outputId": "5ae8ab4d-491f-4acb-da38-5bbe6aa8db74"
      },
      "cell_type": "code",
      "source": [
        "# Generating Summary for a test files\n",
        "X_test = []\n",
        "counter = 0\n",
        "file_list = os.listdir('dataset/stories_text_summarization_dataset_test/')\n",
        "for filename in file_list:\n",
        "  counter+=1\n",
        "  with open(os.path.join('dataset/stories_text_summarization_dataset_test/',filename), 'r', encoding='utf-8') as f:\n",
        "    content=f.read()\n",
        "    X_test.append(content)\n",
        "    f.close()\n",
        "  print(counter)"
      ],
      "execution_count": 39,
      "outputs": [
        {
          "output_type": "stream",
          "text": [
            "1\n",
            "2\n",
            "3\n",
            "4\n",
            "5\n",
            "6\n",
            "7\n",
            "8\n",
            "9\n",
            "10\n"
          ],
          "name": "stdout"
        }
      ]
    },
    {
      "metadata": {
        "id": "E1WhR6Ooz6eo",
        "colab_type": "code",
        "colab": {}
      },
      "cell_type": "code",
      "source": [
        "from sklearn.metrics.pairwise import cosine_similarity\n",
        "import networkx as nx"
      ],
      "execution_count": 0,
      "outputs": []
    },
    {
      "metadata": {
        "id": "ASxg-18SwWwH",
        "colab_type": "code",
        "colab": {}
      },
      "cell_type": "code",
      "source": [
        "def summarize(content, num_sentences):\n",
        "  # splitting into sentences\n",
        "  sentences = sent_tokenize(content)\n",
        "  \n",
        "  # cleaning sentences as above\n",
        "  sentences_clean = [remove_punc(sent) for sent in sentences]\n",
        "  sentences_clean = [keep_alpha(sent) for sent in sentences_clean]\n",
        "  sentences_clean = [sent.lower() for sent in sentences_clean]\n",
        "  \n",
        "  # removing stopwords\n",
        "  sentences_clean = [remove_stopwords(r.split()) for r in sentences_clean]\n",
        "    \n",
        "  # making sentence vectors\n",
        "  sentence_vectors = []\n",
        "  for i in sentences_clean:\n",
        "    if len(i)!=0:\n",
        "      v = sum([model[w] for w in i.split()])/(len(i.split())+0.001)\n",
        "    else:\n",
        "      v = np.zeros((100,))\n",
        "    sentence_vectors.append(v)\n",
        "  \n",
        "  # similarity matrix\n",
        "  sim_mat = np.zeros([len(sentences), len(sentences)])\n",
        "  \n",
        "  for i in range(len(sentences)):\n",
        "    for j in range(len(sentences)):\n",
        "      if i!=j:\n",
        "        sim_mat[i][j]=cosine_similarity(sentence_vectors[i].reshape(1,100),\n",
        "                                       sentence_vectors[j].reshape(1,100))[0,0]\n",
        "  \n",
        "  # building graph for ranking\n",
        "  nx_graph = nx.from_numpy_array(sim_mat)\n",
        "  scores = nx.pagerank(nx_graph)\n",
        "  \n",
        "  ranked_sentences = sorted(((scores[i],s) for i,s in enumerate(sentences)), reverse=True)\n",
        "  \n",
        "  # Generate summary\n",
        "  summary=[]\n",
        "  for i in range(num_sentences):\n",
        "    summary.append(ranked_sentences[i][1])\n",
        "  \n",
        "  return summary"
      ],
      "execution_count": 0,
      "outputs": []
    },
    {
      "metadata": {
        "id": "YUw8KYy-1za6",
        "colab_type": "code",
        "colab": {
          "base_uri": "https://localhost:8080/",
          "height": 955
        },
        "outputId": "260c2dea-76fb-42bf-94ea-95f1e91c9fb8"
      },
      "cell_type": "code",
      "source": [
        "print(X_test[0])\n",
        "print('')\n",
        "print('Summary')\n",
        "\n",
        "summary = summarize(X_test[0],5)\n",
        "for sent in summary:\n",
        "  print(sent)"
      ],
      "execution_count": 50,
      "outputs": [
        {
          "output_type": "stream",
          "text": [
            "The man suspected of trying to attack the Dutch royal family by crashing his car near their bus has died, Dutch police said Friday.\n",
            "\n",
            "A car is pictured after crashing into the crowd waiting for the visit of the royal family in Apeldoorn.\n",
            "\n",
            "The man, whose name was not released, had been seriously injured in the crash Thursday in the town of Apeldoorn, about 45 miles east of Amsterdam, police said. He died early Friday, police said.\n",
            "\n",
            "He had been charged with trying to attack the royal family, authorities said. Were you there? Send us your video, images\n",
            "\n",
            "Police searched the man's house but found no weapons, explosives, \"or any other clues that could lead to the involvement of other people,\" police said.\n",
            "\n",
            "Five people, as well as the driver, were killed and 12 were wounded in the incident, which happened during the country's annual Queen's Day celebration, police said.\n",
            "\n",
            "Crowds had lined the streets to see Queen Beatrix and her family ride by in an open-top bus during the Netherlands' annual holiday.  See who the Dutch royal family are »\n",
            "\n",
            "As the bus moved along, a black hatchback zoomed past it. The crowds were behind barriers off the road, but security officials and journalists, including many cameramen, were in the road as the car went by.\n",
            "\n",
            "The car crashed into the low metal railing around a column on the side of the road. The vehicle appeared heavily damaged even before the crash, but the reason for that was unclear.\n",
            "\n",
            "There was no one other than the driver in the car at the time, police spokeswoman Esther Naber said.\n",
            "\n",
            "Members of the royal family saw the crash and gasped, then quickly sat down as the bus continued driving.\n",
            "\n",
            "The attack caused outrage in the Netherlands, newspapers Friday widely expressing disbelief and suggesting the monarchy would have to change.\n",
            "\n",
            "\"Queens Day will never be the same,\" the Trouw newspaper said. \"The Netherlands always has been proud of their no nonsense royal family. With this comes a Queen who not only cycles a bike, but also mixes with people without obvious security measurements. Is that still possible now the royal family has been the target of an attack?\"\n",
            "\n",
            "The Algemeen Dagblad newspaper agreed.\n",
            "\n",
            "\"\"What is going to happen on the 30th of April next year? And will we continue to see the members of the royal family cycling through the canals of Amsterdam or hunting for bargains in the Bijenkorf in The Hague?\"\n",
            "\n",
            "Queen's Day is a national holiday in the Netherlands, the Netherlands Antilles, and Aruba. The tradition started in 1885 and celebrates the birthday of the queen.\n",
            "\n",
            "Although Queen Beatrix's birthday is January 31, she officially celebrates her birthday April 30, according to the Dutch government.\n",
            "\n",
            "Queen's Day is known for its free market all over the country, where anybody is allowed to sell things in the streets. Other activities include children's games and musical performances.\n",
            "\n",
            "The day is marked with the color orange all over the country as a reference to the colors of the royal family, who come from the House of Orange-Nassau.\n",
            "\n",
            "Emmy Dexel contributed to this report.\n",
            "\n",
            "\n",
            "Summary\n",
            "Five people, as well as the driver, were killed and 12 were wounded in the incident, which happened during the country's annual Queen's Day celebration, police said.\n",
            "Members of the royal family saw the crash and gasped, then quickly sat down as the bus continued driving.\n",
            "A car is pictured after crashing into the crowd waiting for the visit of the royal family in Apeldoorn.\n",
            "The man suspected of trying to attack the Dutch royal family by crashing his car near their bus has died, Dutch police said Friday.\n",
            "See who the Dutch royal family are »\n",
            "\n",
            "As the bus moved along, a black hatchback zoomed past it.\n"
          ],
          "name": "stdout"
        },
        {
          "output_type": "stream",
          "text": [
            "/usr/local/lib/python3.6/dist-packages/ipykernel_launcher.py:17: DeprecationWarning: Call to deprecated `__getitem__` (Method will be removed in 4.0.0, use self.wv.__getitem__() instead).\n"
          ],
          "name": "stderr"
        }
      ]
    },
    {
      "metadata": {
        "id": "rjuYNmwf18t_",
        "colab_type": "code",
        "colab": {}
      },
      "cell_type": "code",
      "source": [
        ""
      ],
      "execution_count": 0,
      "outputs": []
    }
  ]
}